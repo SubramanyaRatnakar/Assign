{
 "cells": [
  {
   "cell_type": "code",
   "execution_count": null,
   "id": "a7e6aad8-e54c-4c92-9f63-46a3c34ab4e9",
   "metadata": {},
   "outputs": [],
   "source": [
    "1.Who developed python programming language?\n",
    "Ans: Guido Van Rossum."
   ]
  },
  {
   "cell_type": "code",
   "execution_count": null,
   "id": "6f7ef3a8-f5b5-4673-9b60-2b8492f138b3",
   "metadata": {},
   "outputs": [],
   "source": [
    "2. Which type of programming does python support?\n",
    "Ans: Python is an interpreted programming language, supporting object-oriented, structured, and functional programming."
   ]
  },
  {
   "cell_type": "code",
   "execution_count": null,
   "id": "f4a1e10b-f55b-4f28-b9e8-7231b1e348af",
   "metadata": {},
   "outputs": [],
   "source": [
    "3. Is python case sensitive when dealing with identifiers?\n",
    "Ans: Yes, python is case sensitive."
   ]
  },
  {
   "cell_type": "code",
   "execution_count": null,
   "id": "b96b55b0-dbd7-4d92-9a30-472d548b986f",
   "metadata": {},
   "outputs": [],
   "source": [
    "4. What is the correct extension of the python file?\n",
    "Ans: Generally it is .py and in Jupyter notebook is .ipynb."
   ]
  },
  {
   "cell_type": "code",
   "execution_count": null,
   "id": "c76c3adf-d967-4529-83af-3efa36bee271",
   "metadata": {},
   "outputs": [],
   "source": [
    "5. is python code compiled or intepreted?\n",
    "Ans: Python is intepreted Language."
   ]
  },
  {
   "cell_type": "code",
   "execution_count": null,
   "id": "8ee5af8f-a841-4135-8c6d-16c1715a344a",
   "metadata": {},
   "outputs": [],
   "source": [
    "6. Name a few blocks of code used to define in Python language?\n",
    "Ans: Indentation is used to define the blocks of code in python."
   ]
  },
  {
   "cell_type": "code",
   "execution_count": null,
   "id": "57e9356d-15f4-4727-bb83-a2e8467e1273",
   "metadata": {},
   "outputs": [],
   "source": [
    "7. State a character used to give single-line comments in python?\n",
    "Ans: '#' is used to give single-line comments in python."
   ]
  },
  {
   "cell_type": "code",
   "execution_count": null,
   "id": "f1926917-cd32-4995-bdda-22dfd9ce9c4a",
   "metadata": {},
   "outputs": [],
   "source": [
    "8. Mention functions which can help us to find the version of python that we are currently working o?n\n",
    "Ans: The function sys. version can help us to find the version of python that we are currently working on."
   ]
  },
  {
   "cell_type": "code",
   "execution_count": null,
   "id": "b1456e16-50e1-4e38-ac9b-faf9d6eaf7b7",
   "metadata": {},
   "outputs": [],
   "source": [
    "9. Python supports the creation of anonymous functions at runtime ,using a construct called lambda."
   ]
  },
  {
   "cell_type": "code",
   "execution_count": null,
   "id": "a24e2372-01ce-4592-8d3c-bc0799171d23",
   "metadata": {},
   "outputs": [],
   "source": [
    "10. What does pip stands for in python?\n",
    "Ans: Preferred installer program."
   ]
  },
  {
   "cell_type": "code",
   "execution_count": null,
   "id": "a0d66b5a-e373-4522-a930-a2772286417d",
   "metadata": {},
   "outputs": [],
   "source": [
    "11. Mention a Few built functions in python?\n",
    "Ans: print( ) function\n",
    "     type( ) function\n",
    "     input( ) function\n",
    "     len() function\n",
    "     max() function\n",
    "     min() function\n",
    "     "
   ]
  },
  {
   "cell_type": "code",
   "execution_count": null,
   "id": "58a8bfcd-8b46-4bda-afc8-991be3633435",
   "metadata": {},
   "outputs": [],
   "source": [
    "12. What is the maximum possible length of an identifier in python?\n",
    "Ans: 79 characters."
   ]
  },
  {
   "cell_type": "code",
   "execution_count": null,
   "id": "40d4721e-23e1-4e52-bd93-52736e611e8a",
   "metadata": {},
   "outputs": [],
   "source": [
    "13. What are the benefits of using Python?\n",
    "Ans: 1. Free and Open Source.\n",
    "     2. Easy to code.\n",
    "     3. Easy to Read.\n",
    "     4. Object-Oriented Language.\n",
    "     5. GUI Programming Support.\n",
    "     6. High-Level Language.\n",
    "     7. Extensible feature.\n",
    "     8. Easy to Debug.\n",
    "     9. Python is a Portable language.\n",
    "     10. Python is an Integrated language."
   ]
  },
  {
   "cell_type": "code",
   "execution_count": null,
   "id": "6da0b8aa-e5b9-4b0c-8eec-23340dc8b619",
   "metadata": {},
   "outputs": [],
   "source": [
    "14. How is the memory managed in python?\n",
    "Ans: Memory in Python is managed by Python private heap space. All Python objects and data structures are located in a private heap. This private heap is taken care of by Python Interpreter itself, and a programmer doesn't have access to this private heap."
   ]
  },
  {
   "cell_type": "code",
   "execution_count": null,
   "id": "6d7edb4f-da03-4026-9aea-d703f20fe0c3",
   "metadata": {},
   "outputs": [],
   "source": [
    "15. How to install python on Windows and set path variables?\n",
    "Ans: Install python from this link https://www.python.org/downloads/ \n",
    "After this, install it on your PC. Look for the location where PYTHON has been installed on your PC using tge following command on your command prompt: cmd python. \n",
    "Then go to advanced system settings and add new variable and name it as PYTHON_NAME and paste the copied path. \n",
    "Then look for the path variable, select it's value and select edit \n",
    "Add a semicolon towards the end of the value if it's not present and then type %PYTHON_HOME%."
   ]
  },
  {
   "cell_type": "code",
   "execution_count": null,
   "id": "c5c1e27d-286b-48b6-b8b2-fbfd9b3c24db",
   "metadata": {},
   "outputs": [],
   "source": [
    "16. Is indentation is required in python?\n",
    "Ans: Yes."
   ]
  }
 ],
 "metadata": {
  "kernelspec": {
   "display_name": "Python 3 (ipykernel)",
   "language": "python",
   "name": "python3"
  },
  "language_info": {
   "codemirror_mode": {
    "name": "ipython",
    "version": 3
   },
   "file_extension": ".py",
   "mimetype": "text/x-python",
   "name": "python",
   "nbconvert_exporter": "python",
   "pygments_lexer": "ipython3",
   "version": "3.10.8"
  }
 },
 "nbformat": 4,
 "nbformat_minor": 5
}
